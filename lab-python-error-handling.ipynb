{
 "cells": [
  {
   "cell_type": "markdown",
   "id": "25d7736c-ba17-4aff-b6bb-66eba20fbf4e",
   "metadata": {},
   "source": [
    "# Lab | Error Handling"
   ]
  },
  {
   "cell_type": "markdown",
   "id": "bc99b386-7508-47a0-bcdb-d969deaf6c8b",
   "metadata": {},
   "source": [
    "## Exercise: Error Handling for Managing Customer Orders\n",
    "\n",
    "The implementation of your code for managing customer orders assumes that the user will always enter a valid input. \n",
    "\n",
    "For example, we could modify the `initialize_inventory` function to include error handling.\n",
    "   - If the user enters an invalid quantity (e.g., a negative value or a non-numeric value), display an error message and ask them to re-enter the quantity for that product.\n",
    "   - Use a try-except block to handle the error and continue prompting the user until a valid quantity is entered.\n",
    "\n",
    "```python\n",
    "# Step 1: Define the function for initializing the inventory with error handling\n",
    "def initialize_inventory(products):\n",
    "    inventory = {}\n",
    "    for product in products:\n",
    "        valid_quantity = False\n",
    "        while not valid_quantity:\n",
    "            try:\n",
    "                quantity = int(input(f\"Enter the quantity of {product}s available: \"))\n",
    "                if quantity < 0:\n",
    "                    raise ValueError(\"Invalid quantity! Please enter a non-negative value.\")\n",
    "                valid_quantity = True\n",
    "            except ValueError as error:\n",
    "                print(f\"Error: {error}\")\n",
    "        inventory[product] = quantity\n",
    "    return inventory\n",
    "\n",
    "# Or, in another way:\n",
    "\n",
    "def initialize_inventory(products):\n",
    "    inventory = {}\n",
    "    for product in products:\n",
    "        valid_input = False\n",
    "        while not valid_input:\n",
    "            try:\n",
    "                quantity = int(input(f\"Enter the quantity of {product}s available: \"))\n",
    "                if quantity >= 0:\n",
    "                    inventory[product] = quantity\n",
    "                    valid_input = True\n",
    "                else:\n",
    "                    print(\"Quantity cannot be negative. Please enter a valid quantity.\")\n",
    "            except ValueError:\n",
    "                print(\"Invalid input. Please enter a valid quantity.\")\n",
    "    return inventory\n",
    "```\n",
    "\n",
    "Let's enhance your code by implementing error handling to handle invalid inputs.\n",
    "\n",
    "Follow the steps below to complete the exercise:\n",
    "\n",
    "2. Modify the `calculate_total_price` function to include error handling.\n",
    "   - If the user enters an invalid price (e.g., a negative value or a non-numeric value), display an error message and ask them to re-enter the price for that product.\n",
    "   - Use a try-except block to handle the error and continue prompting the user until a valid price is entered.\n",
    "\n",
    "3. Modify the `get_customer_orders` function to include error handling.\n",
    "   - If the user enters an invalid number of orders (e.g., a negative value or a non-numeric value), display an error message and ask them to re-enter the number of orders.\n",
    "   - If the user enters an invalid product name (e.g., a product name that is not in the inventory), or that doesn't have stock available, display an error message and ask them to re-enter the product name. *Hint: you will need to pass inventory as a parameter*\n",
    "   - Use a try-except block to handle the error and continue prompting the user until a valid product name is entered.\n",
    "\n",
    "4. Test your code by running the program and deliberately entering invalid quantities and product names. Make sure the error handling mechanism works as expected.\n"
   ]
  },
  {
   "cell_type": "markdown",
   "id": "150ecc4f-3e4f-447b-a05d-d6ad9146473b",
   "metadata": {},
   "source": [
    "2. Modify the `calculate_total_price` function to include error handling.\n",
    "   - If the user enters an invalid price (e.g., a negative value or a non-numeric value), display an error message and ask them to re-enter the price for that product.\n",
    "   - Use a try-except block to handle the error and continue prompting the user until a valid price is entered."
   ]
  },
  {
   "cell_type": "code",
   "execution_count": 9,
   "id": "b2585e3d-da28-4587-8208-93790fc3823b",
   "metadata": {},
   "outputs": [],
   "source": [
    "def calculate_total_price(customer_orders):\n",
    "    price_list = []\n",
    "    for product in customer_orders:\n",
    "        invalid_price = True\n",
    "        while invalid_price:\n",
    "            try:\n",
    "                price = int(input(\"Enter the price of the \"+product))\n",
    "                if price < 0:\n",
    "                    print(\"Invalid price. Price cannot be negative\")\n",
    "                else:\n",
    "                    price_list.append(price)\n",
    "                    invalid_price = False\n",
    "            except:\n",
    "                print(\"only numbers are accepted\")\n",
    "    return sum(price_list)"
   ]
  },
  {
   "cell_type": "markdown",
   "id": "6029acd5-fc73-48b0-b303-fb39523fde45",
   "metadata": {},
   "source": [
    "3. Modify the `get_customer_orders` function to include error handling.\n",
    "   - If the user enters an invalid number of orders (e.g., a negative value or a non-numeric value), display an error message and ask them to re-enter the number of orders.\n",
    "   - If the user enters an invalid product name (e.g., a product name that is not in the inventory), or that doesn't have stock available, display an error message and ask them to re-enter the product name. *Hint: you will need to pass inventory as a parameter*\n",
    "   - Use a try-except block to handle the error and continue prompting the user until a valid product name is entered.\n"
   ]
  },
  {
   "cell_type": "code",
   "execution_count": 10,
   "id": "81d4ad68-3f1d-4930-ab35-15769bcd3bbc",
   "metadata": {},
   "outputs": [],
   "source": [
    "def get_customer_orders(inventory):\n",
    "    customer_orders = set()\n",
    "    next_product = True\n",
    "    while next_product: \n",
    "        try:\n",
    "            product_name = input(\"Enter the name of a product that a customer wants to order: \") \n",
    "            number_of_orders = int(input(\"Enter the number of orders: \"))\n",
    "            if product_name in inventory and inventory[product_name] >= number_of_orders:\n",
    "                customer_orders.add(product_name)\n",
    "                next_product_user_prompt = input(\"Do you want to add another product? yes/no\")\n",
    "                if next_product_user_prompt == \"yes\":\n",
    "                    next_product = True\n",
    "                else:\n",
    "                    next_product = False\n",
    "            else:\n",
    "                print(\"Product name is not available in the stock\")\n",
    "        except:\n",
    "            print(\"you should enter a valid number of orders\")\n",
    "    return customer_orders"
   ]
  },
  {
   "cell_type": "markdown",
   "id": "72318170-ba84-46b2-8975-a29b760d8074",
   "metadata": {},
   "source": [
    "4. Test your code by running the program and deliberately entering invalid quantities and product names. Make sure the error handling mechanism works as expected.\n"
   ]
  },
  {
   "cell_type": "code",
   "execution_count": 11,
   "id": "691ff1d8-450d-418a-bcdc-b4030dedfb18",
   "metadata": {},
   "outputs": [],
   "source": [
    "def initialize_inventory(products):\n",
    "    inventory = {}\n",
    "    for product in products:\n",
    "        valid_quantity = False\n",
    "        while not valid_quantity:\n",
    "            try:\n",
    "                quantity = int(input(f\"Enter the quantity of {product}s available: \"))\n",
    "                if quantity < 0:\n",
    "                    raise ValueError(\"Invalid quantity! Please enter a non-negative value.\")\n",
    "                valid_quantity = True\n",
    "            except ValueError as error:\n",
    "                print(f\"Error: {error}\")\n",
    "        inventory[product] = quantity\n",
    "    return inventory"
   ]
  },
  {
   "cell_type": "code",
   "execution_count": 12,
   "id": "d60c4e40-56f8-4a9c-9f26-06141e3a862b",
   "metadata": {},
   "outputs": [
    {
     "name": "stdin",
     "output_type": "stream",
     "text": [
      "Enter the quantity of mugs available:  10\n",
      "Enter the quantity of hats available:  20\n",
      "Enter the quantity of books available:  30\n",
      "Enter the name of a product that a customer wants to order:  mug\n",
      "Enter the number of orders:  5\n",
      "Do you want to add another product? yes/no yes\n",
      "Enter the name of a product that a customer wants to order:  hat\n",
      "Enter the number of orders:  15\n",
      "Do you want to add another product? yes/no no\n",
      "Enter the price of the mug 10\n",
      "Enter the price of the hat 20\n"
     ]
    },
    {
     "data": {
      "text/plain": [
       "30"
      ]
     },
     "execution_count": 12,
     "metadata": {},
     "output_type": "execute_result"
    }
   ],
   "source": [
    "products = [\"mug\",\"hat\",\"book\"]\n",
    "inventory = initialize_inventory(products)\n",
    "customer_orders = get_customer_orders(inventory)\n",
    "calculate_total_price(customer_orders)"
   ]
  }
 ],
 "metadata": {
  "kernelspec": {
   "display_name": "Python 3 (ipykernel)",
   "language": "python",
   "name": "python3"
  },
  "language_info": {
   "codemirror_mode": {
    "name": "ipython",
    "version": 3
   },
   "file_extension": ".py",
   "mimetype": "text/x-python",
   "name": "python",
   "nbconvert_exporter": "python",
   "pygments_lexer": "ipython3",
   "version": "3.11.7"
  }
 },
 "nbformat": 4,
 "nbformat_minor": 5
}
